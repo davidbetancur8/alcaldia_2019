{
 "cells": [
  {
   "cell_type": "code",
   "execution_count": 1,
   "metadata": {},
   "outputs": [],
   "source": [
    "from tw_functions import autenticar, get_tweets\n",
    "import indicoio\n",
    "import numpy as np\n",
    "import pandas as pd\n",
    "import seaborn as sns\n",
    "import collections\n",
    "import re\n",
    "import matplotlib.pyplot as plt\n",
    "from stop_words import get_stop_words\n",
    "from wordcloud import WordCloud\n",
    "import tweepy"
   ]
  },
  {
   "cell_type": "code",
   "execution_count": 2,
   "metadata": {},
   "outputs": [],
   "source": [
    "api = autenticar()"
   ]
  },
  {
   "cell_type": "code",
   "execution_count": 5,
   "metadata": {},
   "outputs": [],
   "source": [
    "candidatos = [\"AlfredoRamosM\", \"QuinteroCalle\", \"jcvelezuribe\",\"JDValde\", \"BeatrizRave\",\"VictorJCorreaV\"]"
   ]
  },
  {
   "cell_type": "code",
   "execution_count": 8,
   "metadata": {
    "scrolled": true
   },
   "outputs": [],
   "source": [
    "all_candidates = []\n",
    "for candidato in candidatos:\n",
    "    tweets = []\n",
    "    # Se hace de esta manera para poder acceder al limite de 3200 tweets\n",
    "    for tweet in tweepy.Cursor(api.user_timeline,id=candidato, tweet_mode=\"extended\").items():\n",
    "        if (not tweet.retweeted) and ('RT @' not in tweet.full_text):\n",
    "            full_text = tweet.full_text\n",
    "            full_text = full_text.replace('\\n', ' ').replace('\\r', '')\n",
    "            full_text = re.sub(r'[^\\w\\s]','',full_text)\n",
    "            tweets.append(full_text)\n",
    "        \n",
    "    with open(f'tweets2/{candidato}.txt', 'w') as f:\n",
    "        for item in tweets:\n",
    "            f.write(\"%s\\n\" % item)"
   ]
  },
  {
   "cell_type": "code",
   "execution_count": null,
   "metadata": {},
   "outputs": [],
   "source": []
  }
 ],
 "metadata": {
  "kernelspec": {
   "display_name": "Python 3",
   "language": "python",
   "name": "python3"
  },
  "language_info": {
   "codemirror_mode": {
    "name": "ipython",
    "version": 3
   },
   "file_extension": ".py",
   "mimetype": "text/x-python",
   "name": "python",
   "nbconvert_exporter": "python",
   "pygments_lexer": "ipython3",
   "version": "3.7.3"
  }
 },
 "nbformat": 4,
 "nbformat_minor": 2
}
